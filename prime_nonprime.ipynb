{
  "nbformat": 4,
  "nbformat_minor": 0,
  "metadata": {
    "colab": {
      "provenance": []
    },
    "kernelspec": {
      "name": "python3",
      "display_name": "Python 3"
    },
    "language_info": {
      "name": "python"
    }
  },
  "cells": [
    {
      "cell_type": "code",
      "execution_count": 3,
      "metadata": {
        "colab": {
          "base_uri": "https://localhost:8080/"
        },
        "id": "tsbAnE7t2hv1",
        "outputId": "92ef09f8-4f56-420c-802a-6e525ed29a0a"
      },
      "outputs": [
        {
          "output_type": "stream",
          "name": "stdout",
          "text": [
            "enter the number11\n",
            "11 is a prime number\n"
          ]
        }
      ],
      "source": [
        "num = int (input(\"enter the number\"))\n",
        "if num>1:\n",
        "  for i in range(2,num):\n",
        "    if (num%i)==0:\n",
        "      print(num,\"is not a prime number\")\n",
        "      break\n",
        "  else:\n",
        "      print(num,\"is a prime number\")\n",
        "else:\n",
        "    print(num,\"is not a prime number\")"
      ]
    }
  ]
}
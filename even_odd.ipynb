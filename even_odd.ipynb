{
  "nbformat": 4,
  "nbformat_minor": 0,
  "metadata": {
    "colab": {
      "provenance": []
    },
    "kernelspec": {
      "name": "python3",
      "display_name": "Python 3"
    },
    "language_info": {
      "name": "python"
    }
  },
  "cells": [
    {
      "cell_type": "code",
      "execution_count": 1,
      "metadata": {
        "colab": {
          "base_uri": "https://localhost:8080/"
        },
        "id": "7iXA20wTutYh",
        "outputId": "1d408ecc-d2a9-49a1-e76e-efa1809d7600"
      },
      "outputs": [
        {
          "output_type": "stream",
          "name": "stdout",
          "text": [
            "Enter a number22\n",
            "22 is even number\n"
          ]
        }
      ],
      "source": [
        "number= int(input(\"Enter a number\"))\n",
        "\n",
        "if(number%2) ==0:\n",
        "  print(\"{0} is even number\". format (number))\n",
        "else:\n",
        "  print(\"{0} is odd number\". format (number))\n"
      ]
    }
  ]
}